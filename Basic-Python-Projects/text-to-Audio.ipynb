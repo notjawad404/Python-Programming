{
 "cells": [
  {
   "cell_type": "code",
   "execution_count": 1,
   "metadata": {},
   "outputs": [
    {
     "name": "stdout",
     "output_type": "stream",
     "text": [
      "Collecting pyttsx3\n",
      "  Downloading pyttsx3-2.90-py3-none-any.whl (39 kB)\n",
      "Collecting comtypes (from pyttsx3)\n",
      "  Downloading comtypes-1.3.0-py3-none-any.whl.metadata (6.4 kB)\n",
      "Collecting pypiwin32 (from pyttsx3)\n",
      "  Downloading pypiwin32-223-py3-none-any.whl (1.7 kB)\n",
      "Requirement already satisfied: pywin32 in c:\\users\\jawad\\appdata\\roaming\\python\\python312\\site-packages (from pyttsx3) (306)\n",
      "Downloading comtypes-1.3.0-py3-none-any.whl (194 kB)\n",
      "   ---------------------------------------- 0.0/194.1 kB ? eta -:--:--\n",
      "   -- ------------------------------------- 10.2/194.1 kB ? eta -:--:--\n",
      "   ------------ -------------------------- 61.4/194.1 kB 544.7 kB/s eta 0:00:01\n",
      "   ---------------- ---------------------- 81.9/194.1 kB 573.4 kB/s eta 0:00:01\n",
      "   ---------------- ---------------------- 81.9/194.1 kB 573.4 kB/s eta 0:00:01\n",
      "   ---------------- ---------------------- 81.9/194.1 kB 573.4 kB/s eta 0:00:01\n",
      "   ------------------ -------------------- 92.2/194.1 kB 308.0 kB/s eta 0:00:01\n",
      "   ------------------------ ------------- 122.9/194.1 kB 343.4 kB/s eta 0:00:01\n",
      "   ---------------------------------- --- 174.1/194.1 kB 436.9 kB/s eta 0:00:01\n",
      "   ------------------------------------ - 184.3/194.1 kB 445.2 kB/s eta 0:00:01\n",
      "   -------------------------------------- 194.1/194.1 kB 392.0 kB/s eta 0:00:00\n",
      "Installing collected packages: comtypes, pypiwin32, pyttsx3\n",
      "Successfully installed comtypes-1.3.0 pypiwin32-223 pyttsx3-2.90\n",
      "Note: you may need to restart the kernel to use updated packages.\n"
     ]
    },
    {
     "name": "stderr",
     "output_type": "stream",
     "text": [
      "  WARNING: The script clear_comtypes_cache.exe is installed in 'c:\\Users\\jawad\\AppData\\Local\\Programs\\Python\\Python312\\Scripts' which is not on PATH.\n",
      "  Consider adding this directory to PATH or, if you prefer to suppress this warning, use --no-warn-script-location.\n"
     ]
    }
   ],
   "source": [
    "pip install pyttsx3"
   ]
  }
 ],
 "metadata": {
  "kernelspec": {
   "display_name": "Python 3",
   "language": "python",
   "name": "python3"
  },
  "language_info": {
   "codemirror_mode": {
    "name": "ipython",
    "version": 3
   },
   "file_extension": ".py",
   "mimetype": "text/x-python",
   "name": "python",
   "nbconvert_exporter": "python",
   "pygments_lexer": "ipython3",
   "version": "3.12.2"
  }
 },
 "nbformat": 4,
 "nbformat_minor": 2
}
